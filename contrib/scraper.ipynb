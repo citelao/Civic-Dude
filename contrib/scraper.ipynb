{
 "cells": [
  {
   "cell_type": "code",
   "execution_count": 1,
   "id": "fd3586db",
   "metadata": {},
   "outputs": [
    {
     "name": "stdout",
     "output_type": "stream",
     "text": [
      "hello python\n"
     ]
    }
   ],
   "source": [
    "print(\"hello python\")"
   ]
  },
  {
   "cell_type": "code",
   "execution_count": 2,
   "id": "1482f3ca",
   "metadata": {},
   "outputs": [],
   "source": [
    "from bs4 import BeautifulSoup"
   ]
  },
  {
   "cell_type": "code",
   "execution_count": 6,
   "id": "1d2c14aa",
   "metadata": {},
   "outputs": [],
   "source": [
    "# Get the calendar page!\n",
    "import requests\n",
    "\n",
    "url = \"https://bellevue.legistar.com/Calendar.aspx\"\n",
    "response = requests.get(url)\n",
    "content = response.text\n",
    "soup = BeautifulSoup(content, \"html.parser\")"
   ]
  },
  {
   "cell_type": "code",
   "execution_count": 26,
   "id": "e37d82fe",
   "metadata": {},
   "outputs": [
    {
     "name": "stdout",
     "output_type": "stream",
     "text": [
      "\n",
      "Arts Commission\n",
      " 10/1/2025 <td><font color=\"DimGray\" face=\"Tahoma\" size=\"2\">\n",
      "<span style=\"white-space: nowrap;\">\n",
      "<img alt=\"Agenda\" border=\"0\" id=\"ctl00_ContentPlaceHolder1_gridCalendar_ctl00_ctl04_imgAgenda\" src=\"Images/PDF.gif\"/>\n",
      "<a href=\"View.ashx?M=A&amp;ID=1340044&amp;GUID=08396C01-1563-4E18-B521-B489520E087A\" id=\"ctl00_ContentPlaceHolder1_gridCalendar_ctl00_ctl04_hypAgenda\" target=\"_blank\"><font color=\"Blue\" face=\"Tahoma\" size=\"2\">Agenda</font></a>\n",
      "</span>\n",
      "</font></td> <td><font color=\"DimGray\" face=\"Tahoma\" size=\"2\">\n",
      "<span style=\"white-space: nowrap;\">\n",
      "<a class=\"otherNotAvaiableMinutes\" id=\"ctl00_ContentPlaceHolder1_gridCalendar_ctl00_ctl04_hypMinutes\"><font color=\"Gray\" face=\"Tahoma\" size=\"2\">Not available</font></a>\n",
      "</span>\n",
      "</font></td> <td><font color=\"DimGray\" face=\"Tahoma\" size=\"2\">\n",
      "<span style=\"white-space: nowrap;\">\n",
      "<a id=\"ctl00_ContentPlaceHolder1_gridCalendar_ctl00_ctl04_hypExtra3\"><font color=\"Gray\" face=\"Tahoma\" size=\"2\">Not available</font></a>\n",
      "</span>\n",
      "</font></td>\n"
     ]
    }
   ],
   "source": [
    "# Find all rows in the body of the .rgMasterTable\n",
    "# TODO: pagination\n",
    "# TODO: \"All years\"\n",
    "table = soup.find(\"table\", class_=\"rgMasterTable\")\n",
    "tbody = table.find(\"tbody\")\n",
    "rows = tbody.find_all(\"tr\")\n",
    "\n",
    "for i in range(0, 1):\n",
    "    row = rows[i]\n",
    "    cols = row.find_all(\"td\")\n",
    "    title = cols[0].text\n",
    "    date_str = cols[1].text\n",
    "    print(title, date_str, cols[6], cols[7], cols[8])\n"
   ]
  },
  {
   "cell_type": "code",
   "execution_count": null,
   "id": "b192f056",
   "metadata": {},
   "outputs": [],
   "source": [
    "# Get the events RSS\n",
    "import requests\n",
    "\n",
    "# NOTE: Title= is unnec, I think.\n",
    "url = \"https://bellevue.legistar.com/Feed.ashx?M=Calendar&ID=31515925&GUID=fe06a265-908f-4b2e-b0bf-5570c51f012c&Mode=All&Title=City+of+Bellevue+-+Calendar+(All)\"\n",
    "response = requests.get(url)\n",
    "content = response.text"
   ]
  },
  {
   "cell_type": "code",
   "execution_count": 38,
   "id": "3dafd4de",
   "metadata": {},
   "outputs": [],
   "source": [
    "import feedparser\n",
    "events_feed = feedparser.parse(content)"
   ]
  },
  {
   "cell_type": "code",
   "execution_count": 41,
   "id": "c0e53a90",
   "metadata": {},
   "outputs": [
    {
     "data": {
      "text/plain": [
       "{'title': 'Arts Commission - 10/1/2025 (CANCELED)',\n",
       " 'title_detail': {'type': 'text/plain',\n",
       "  'language': None,\n",
       "  'base': '',\n",
       "  'value': 'Arts Commission - 10/1/2025 (CANCELED)'},\n",
       " 'links': [{'rel': 'alternate',\n",
       "   'type': 'text/html',\n",
       "   'href': 'https://bellevue.legistar.com/Gateway.aspx?M=MD&From=RSS&ID=1340044&GUID=08396C01-1563-4E18-B521-B489520E087A'}],\n",
       " 'link': 'https://bellevue.legistar.com/Gateway.aspx?M=MD&From=RSS&ID=1340044&GUID=08396C01-1563-4E18-B521-B489520E087A',\n",
       " 'id': '08396C01-1563-4E18-B521-B489520E087A-2025-09-22-16-48-13',\n",
       " 'guidislink': False,\n",
       " 'summary': '',\n",
       " 'summary_detail': {'type': 'text/html',\n",
       "  'language': None,\n",
       "  'base': '',\n",
       "  'value': ''},\n",
       " 'tags': [{'term': 'Arts Commission', 'scheme': None, 'label': None}],\n",
       " 'published': 'Mon, 22 Sep 2025 16:48:13 GMT',\n",
       " 'published_parsed': time.struct_time(tm_year=2025, tm_mon=9, tm_mday=22, tm_hour=16, tm_min=48, tm_sec=13, tm_wday=0, tm_yday=265, tm_isdst=0)}"
      ]
     },
     "execution_count": 41,
     "metadata": {},
     "output_type": "execute_result"
    }
   ],
   "source": [
    "entry = events_feed.entries[0]\n",
    "entry"
   ]
  },
  {
   "cell_type": "code",
   "execution_count": 73,
   "id": "fe03a9e7",
   "metadata": {},
   "outputs": [
    {
     "name": "stdout",
     "output_type": "stream",
     "text": [
      "Full link: https://bellevue.legistar.com/Gateway.aspx?M=MD&From=RSS&ID=1340044&GUID=08396C01-1563-4E18-B521-B489520E087A\n",
      "Extracted ID: 08396C01-1563-4E18-B521-B489520E087A\n"
     ]
    }
   ],
   "source": [
    "# Related items links\n",
    "# e.g.:\n",
    "# https://bellevue.legistar.com/MeetingDetail.aspx?From=RSS&ID=1340044&GUID=08396C01-1563-4E18-B521-B489520E087A\n",
    "# https://bellevue.legistar.com/Feed.ashx?M=CalendarDetail&ID=1308928&GUID=E5F4EE8D-DB26-44A2-98B5-AF31A2900196\n",
    "\n",
    "# Extract ID from entry link\n",
    "from urllib.parse import urlparse, parse_qs\n",
    "\n",
    "# Parse the URL to extract the ID parameter\n",
    "entry_url = entry[\"link\"]\n",
    "parsed_url = urlparse(entry_url)\n",
    "query_params = parse_qs(parsed_url.query)\n",
    "id = query_params.get(\"GUID\", [None])[0]\n",
    "\n",
    "print(f\"Full link: {entry_url}\")\n",
    "print(f\"Extracted ID: {id}\")\n",
    "\n",
    "related_items_url = f\"https://bellevue.legistar.com/Feed.ashx?M=CalendarDetail&ID={id}\"\n",
    "related_items_response = requests.get(related_items_url)"
   ]
  },
  {
   "cell_type": "code",
   "execution_count": null,
   "id": "a5bda169",
   "metadata": {},
   "outputs": [
    {
     "name": "stdout",
     "output_type": "stream",
     "text": [
      "https://bellevue.legistar.com/View.ashx?M=A&ID=1308928&GUID=08396C01-1563-4E18-B521-B489520E087A\n"
     ]
    }
   ],
   "source": [
    "# Agenda link\n",
    "# https://bellevue.legistar.com/View.ashx?M=A&ID=1340044&GUID=08396C01-1563-4E18-B521-B489520E087A\n",
    "# https://bellevue.legistar.com/View.ashx?M=A&ID=1308928&GUID=E5F4EE8D-DB26-44A2-98B5-AF31A2900196\n",
    "agenda_url = f\"https://bellevue.legistar.com/View.ashx?M=A&ID=1308928&GUID={id}\"\n",
    "agenda_url_response = requests.get(agenda_url)\n",
    "print(agenda_url)"
   ]
  },
  {
   "cell_type": "code",
   "execution_count": 64,
   "id": "a6e1bd6c",
   "metadata": {},
   "outputs": [
    {
     "data": {
      "text/plain": [
       "'\\r\\n<!DOCTYPE html PUBLIC \"-//W3C//DTD XHTML 1.0 Transitional//EN\" \"http://www.w3.org/TR/xhtml1/DTD/xhtml1-transitional.dtd\">\\r\\n<html xmlns=\"http://www.w3.org/1999/xhtml\" lang=\"en\">\\r\\n<head id=\"ctl00_Head1\"><title>\\r\\n\\tConfirmation\\r\\n</title><link href=\"CalendarControl.css\" rel=\"stylesheet\" type=\"text/css\" /><link href=\"Skins/Tacoma/TabStrip.Tacoma.css\" rel=\"Stylesheet\" type=\"text/css\" /><link href=\"Skins/Tacoma/AccessibilityCommons.css\" rel=\"Stylesheet\" type=\"text/css\" />\\r\\n    <script type=\"text/JavaScript\" src=\"AccessibilityFocusManagement.js\"></script>\\r\\n\\r\\n\\r\\n    <style>\\r\\n        .skip-to-content {\\r\\n            position: absolute;\\r\\n            color: #0443B0;\\r\\n            padding: 10px;\\r\\n            z-index: 100;\\r\\n            text-decoration: none;\\r\\n            font-family: \"Segoe UI\", Arial, Helvetica, sans-serif;\\r\\n            font-size: 14px;\\r\\n            margin-top: -71px;\\r\\n            display: none;\\r\\n            top: -50px;\\r\\n            transition: opacity 0.3s ease-in-out, margin-top 0.3s ease-in-out;\\r\\n        }\\r\\n\\r\\n        .skip-to-content:focus {\\r\\n            opacity: 1; \\r\\n            margin-top: 0;\\r\\n            display: block;\\r\\n            margin-top: 4px;\\r\\n            width: 150px;\\r\\n            top: -2px;\\r\\n            left: 4px;\\r\\n            position: relative;\\r\\n        }\\r\\n    </style>\\r\\n\\r\\n    <script>\\r\\n        document.addEventListener(\\'DOMContentLoaded\\', function() {\\r\\n            var skipLink = document.querySelector(\\'.skip-to-content\\');\\r\\n            document.addEventListener(\\'keydown\\', function(e) {\\r\\n                if (e.key === \\'Tab\\') {\\r\\n                    skipLink.style.display = \\'block\\';\\r\\n                }\\r\\n            });\\r\\n        });\\r\\n    </script>\\r\\n    <script>\\r\\n        function focusMainContent() {\\r\\n            var mainContent = document.getElementById(\\'mainContent\\');\\r\\n            if (mainContent) {\\r\\n                mainContent.setAttribute(\\'tabindex\\', \\'-1\\');\\r\\n                mainContent.focus();\\r\\n            }\\r\\n        }\\r\\n    </script>\\r\\n\\r\\n    <script type=\"text/javascript\" src=\"./Scripts/jquery-3.6.4.min.js\"></script>\\r\\n    <script type=\"text/javascript\" src=\"CalendarControl.js\" language=\"javascript\"></script>\\r\\n    <script type=\"text/javascript\">\\r\\n        var addthis_config = {\\r\\n            ui_cobrand: \"powered by Legistar\",\\r\\n            ui_header_color: \"#660000\",\\r\\n            ui_header_background: \"#f7eecd\",\\r\\n            ui_508_compliant: true,\\r\\n            data_track_clickback: true\\r\\n        }\\r\\n    </script>\\r\\n    <script type=\"text/javascript\" src=\"https://s7.addthis.com/js/300/addthis_widget.js#username=legistarinsite\" async=\"async\"></script>\\r\\n    <script type=\"text/javascript\">\\r\\n        window.name = \"MasterWindow\";\\r\\n        var first = true;\\r\\n        var first2 = true;\\r\\n        function OpenTelerikWindow(url) {\\r\\n            var w = radopen(url, \\'RadWindow1\\');\\r\\n            w.add_pageLoad(function () {\\r\\n                focusRadWindow(w);\\r\\n            });\\r\\n\\r\\n            if (first) {\\r\\n                //w.togglePin(); \\r\\n                first = false;\\r\\n            }\\r\\n        }\\r\\n        function OpenTelerikWindow2(url) {\\r\\n            var w = radopen(url, \\'RadWindow2\\')\\r\\n            if (first2) {\\r\\n                //w.togglePin(); \\r\\n                first2 = false;\\r\\n            }\\r\\n        }\\r\\n    </script>\\r\\n    <!-- Google tag (gtag.js) -->\\r\\n    <script async src=\"https://www.googletagmanager.com/gtag/js?id=G-TTMGN2RHVZ\"></script>\\r\\n    <script>\\r\\n        window.dataLayer = window.dataLayer || [];\\r\\n        function gtag() { dataLayer.push(arguments); }\\r\\n        gtag(\\'js\\', new Date());\\r\\n\\r\\n        gtag(\\'config\\', \\'G-TTMGN2RHVZ\\');\\r\\n    </script>\\r\\n    <meta name=\"author\" content=\"Granicus, Inc.\" /><meta name=\"format-detection\" content=\"telephone=no\" /><link href=\"/WebResource.axd?d=HkmiNSkKJcp9zYO7iQ4LQenL3JpSZe2UGKB_Pk4r5YQRuZzPsLMsZzwrSvy9lruIl5GkgwLvHWu67vwJMwKSFxUTlVdL05GtcnLDPfablFs-ZjDTV4SRhTyPSYW1NSg5lG_yG93x297US-_TNEi91A2&amp;t=638932326211026183\" type=\"text/css\" rel=\"stylesheet\" class=\"Telerik_stylesheet\" /><link href=\"/WebResource.axd?d=MhwgBhFpGm96DYXZg64XBFO_Qti5qvJnP97Bn0RxNVzxPkRc1lsUOvsNrog8hB6UfUcMd9UGUq7HWoS3NR7pBHxFzwG7wn5vFH4ZiRANDgrdX46IV3jFiRTMdaiY4p5nafT8PIG-WJ_AeM3Buxg0ROhjg7TnlSRDbF0Ta5237mU1&amp;t=638932326214485753\" type=\"text/css\" rel=\"stylesheet\" class=\"Telerik_stylesheet\" /></head>\\r\\n<body id=\"ctl00_body1\" style=\"margin: 0px; border: 0px;\">\\r\\n    <div id=\"globalTooltip\" class=\"custom-tooltip\"></div>\\r\\n    <a href=\"#mainContent\" class=\"skip-to-content\" onclick=\"focusMainContent()\">Skip to main content</a>\\r\\n    <form name=\"aspnetForm\" method=\"post\" action=\"./Confirmation.aspx?M1=Gone\" id=\"aspnetForm\" style=\"direction:ltr;\">\\r\\n<input type=\"hidden\" name=\"ctl00_RadScriptManager1_TSM\" id=\"ctl00_RadScriptManager1_TSM\" value=\"\" />\\r\\n<input type=\"hidden\" name=\"__VIEWSTATE\" id=\"__VIEWSTATE\" value=\"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\" />\\r\\n\\r\\n\\r\\n<script src=\"/Telerik.Web.UI.WebResource.axd?_TSM_HiddenField_=ctl00_RadScriptManager1_TSM&amp;compress=1&amp;_TSM_CombinedScripts_=%3b%3bSystem.Web.Extensions%2c+Version%3d4.0.0.0%2c+Culture%3dneutral%2c+PublicKeyToken%3d31bf3856ad364e35%3aen-US%3aceece802-cb39-4409-a6c9-bfa3b2c8bf10%3aea597d4b%3bTelerik.Web.UI%2c+Version%3d2020.1.114.45%2c+Culture%3dneutral%2c+PublicKeyToken%3d121fae78165ba3d4%3aen-US%3a40a36146-6362-49db-b4b5-57ab81f34dac%3ae330518b%3a16e4e7cd%3af7645509%3a24ee1bba%3a33715776%3a88144a7a%3a1e771326%3a8e6f0d33%3a1f3a7489\" type=\"text/javascript\"></script>\\r\\n<input type=\"hidden\" name=\"__VIEWSTATEGENERATOR\" id=\"__VIEWSTATEGENERATOR\" value=\"6F4DDBA3\" />\\r\\n<input type=\"hidden\" name=\"__EVENTVALIDATION\" id=\"__EVENTVALIDATION\" value=\"o/Y6xZtg2BT9EPxnr7GYoc9/6AePdYkigENUlDdE9Y1V43aoKaLCi+vSDG1JCxvnQ6fOAjCPZJDPkJD7PgXbLenG5VoPd+fwi92wKwghhLQTQ0vn9sXoeBZspPCx1Ngb\" />\\r\\n        \\r\\n        <div id=\"ctl00_divBody\">\\r\\n            <div id=\"ctl00_divMyAccountOut\" style=\"position: absolute; right: 8px; top: 14px;\">\\r\\n                <a id=\"ctl00_hypSignIn\" href=\"SignIn.aspx?ReturnUrl=TXlBY2NvdW50LmFzcHg%3d\"><font face=\"Tahoma\" color=\"White\" size=\"2\">Sign In</font></a>\\r\\n            </div>\\r\\n            \\r\\n            <div id=\"ctl00_divTop\"><link href=\"https://fonts.googleapis.com/css?family=Montserrat\" rel=\"stylesheet\" />\\n<style>\\n    .menubar { background: #217b87; padding: 10px 0; } .inside-padding { max-width: 1280px; margin: 0 auto; } .pagetitle-wrapper { display: inline-block; width: calc(100%-88px); vertical-align: middle; } .pagetitle-wrapper .homelink { display: inline-block; color: #fff; font-weight: 400; font-size: 18px; font-family: \\'Montserrat\\', sans-serif; text-decoration: none; } .pagetitle-wrapper .homelink:hover { text-decoration: underline; }\\n</style>\\n<!-- <table width=\"100%\" style=\"background-image: url(\\'https://bellevue.legistar.com/Images/BELL/bellevue-insite-bgHeaderBlue.gif\\'); background-repeat: repeat-x;\" border=\"0\" cellspacing=\"0\" cellpadding=\"0\"> <tbody> <tr> <td style=\"color: #ffffff; font-size: 1.1em; padding: 0px 15px;\"> <p style=\"margin-bottom: 5px; font-family: Arial, \\'Helvetica Neue\\', Helvetica, sans-serif;\">&nbsp; &nbsp; &nbsp; &nbsp; &nbsp; &nbsp; &nbsp; &nbsp;</p> </td> </tr> </tbody> </table> -->\\n<div class=\"menubar\">\\n<div class=\"inside-padding\">\\n<div class=\"pagetitle-wrapper\"><a href=\"https://bellevuewa.gov\" class=\"homelink\">City of Bellevue, WA</a></div>\\n</div>\\n</div>\\n<img alt=\"\" width=\"100%\" src=\"https://webcontent.granicusops.com/content/bellevue/images/bellevue_insite_banner%202.png\" /></div>\\r\\n            \\r\\n            <div id=\"ctl00_divTabs\">\\r\\n                <div id=\"ctl00_tabTop\" class=\"RadTabStrip RadTabStrip_Office2007 RadTabStripTop_Office2007 RadTabStripTop\"><font face=\"Tahoma\" size=\"2\">\\r\\n\\t<!-- 2020.1.114.45 --><div class=\"rtsLevel rtsLevel1\">\\r\\n\\t\\t<ul class=\"rtsUL\"><li class=\"rtsLI rtsFirst\"><a class=\"rtsLink\" href=\"Calendar.aspx\"><span class=\"rtsOut\"><span class=\"rtsIn\"><span class=\"rtsTxt\">Calendar</span></span></span></a></li><li class=\"rtsLI\"><a class=\"rtsLink\" href=\"MainBody.aspx\"><span class=\"rtsOut\"><span class=\"rtsIn\"><span class=\"rtsTxt\">City Council</span></span></span></a></li><li class=\"rtsLI\"><a class=\"rtsLink\" href=\"https://bellevue.legistar.com/DepartmentDetail.aspx?ID=36988&amp;GUID=DB7BEE27-0270-4B4E-AAA1-BE80A9A1351D&amp;R=b1508243-7d0f-4915-871b-050084644bd4\"><span class=\"rtsOut\"><span class=\"rtsIn\"><span class=\"rtsTxt\">East Bellevue Community Council</span></span></span></a></li><li class=\"rtsLI\"><a class=\"rtsLink\" href=\"https://bellevue.legistar.com/DepartmentDetail.aspx?ID=38562&amp;GUID=BECF7B93-2020-458D-BF48-481917AABD64&amp;R=7d8828b3-c897-4e33-b4dc-ffb67a1bc031\"><span class=\"rtsOut\"><span class=\"rtsIn\"><span class=\"rtsTxt\">Environmental Services Commission</span></span></span></a></li><li class=\"rtsLI\"><a class=\"rtsLink\" href=\"https://bellevue.legistar.com/DepartmentDetail.aspx?ID=41382&amp;GUID=5DCEABD0-80C6-4E28-8280-2132A8045177&amp;R=6e89d5d9-9f56-4d5f-a250-2357c1f470ce\"><span class=\"rtsOut\"><span class=\"rtsIn\"><span class=\"rtsTxt\">Human Services Commission</span></span></span></a></li><li class=\"rtsLI\"><a class=\"rtsLink\" href=\"https://bellevue.legistar.com/DepartmentDetail.aspx?ID=41346&amp;GUID=5418B091-40A7-4E20-84CA-AEDFDA182FC8&amp;R=cf6e2e07-65d5-4a47-aad9-e75518c1d390\"><span class=\"rtsOut\"><span class=\"rtsIn\"><span class=\"rtsTxt\">Parks & Community Services Board</span></span></span></a></li><li class=\"rtsLI\"><a class=\"rtsLink\" href=\"https://bellevue.legistar.com/DepartmentDetail.aspx?ID=34800&amp;GUID=E2B592F1-4F81-48A7-8202-88AA2D380B94&amp;R=8da5c08f-28cb-466e-b789-5db4c06ef202\"><span class=\"rtsOut\"><span class=\"rtsIn\"><span class=\"rtsTxt\">Planning Commission</span></span></span></a></li><li class=\"rtsLI rtsLast\"><a class=\"rtsLink\" href=\"https://bellevue.legistar.com/DepartmentDetail.aspx?ID=37888&amp;GUID=1A497E37-AF95-49C5-A5D5-3B0651415C43&amp;R=71ef3d95-f7a6-4d5f-b7b5-b55fc1cc07a3\\t\"><span class=\"rtsOut\"><span class=\"rtsIn\"><span class=\"rtsTxt\">Transportation Commission</span></span></span></a></li></ul>\\r\\n\\t</div><input id=\"ctl00_tabTop_ClientState\" name=\"ctl00_tabTop_ClientState\" type=\"hidden\" />\\r\\n</font></div>\\r\\n            </div>\\r\\n            <div id=\"ctl00_divLeft\">\\r\\n            </div>\\r\\n            <div id=\"ctl00_divHeader\" style=\"width: 100%; height: 28px\">\\r\\n                <div id=\"divHeaderLeft\">\\r\\n                    \\r\\n                </div>\\r\\n                <div id=\"divHeaderRight\" style=\"float: right; height: 16px\">\\r\\n                    \\r\\n                    \\r\\n                </div>\\r\\n            </div>\\r\\n            <div id=\"ctl00_Div1\">\\r\\n                <div id=\"ctl00_Div2\">\\r\\n                    <div id=\"ctl00_divMiddle\">\\r\\n                        \\r\\n    <table border=\"0\" cellpadding=\"10\" cellspacing=\"10\" style=\"width: 100%;\">\\r\\n        <tr>\\r\\n            <td style=\"width: 25%;\">\\r\\n                &nbsp;\\r\\n            </td>\\r\\n            <td style=\"width: 50%;\" align=\"center\" valign=\"middle\">\\r\\n                <div id=\"ctl00_ContentPlaceHolder1_pan1\">\\r\\n\\t\\r\\n                    <br />\\r\\n                    <br />\\r\\n                    <span id=\"ctl00_ContentPlaceHolder1_Label1\"><font face=\"Tahoma\" color=\"Red\" size=\"2\">This record no longer exists. It might have been deleted.</font></span>\\r\\n                    <span id=\"ctl00_ContentPlaceHolder1_Label2\"><font face=\"Tahoma\" color=\"Black\" size=\"2\"></font></span>\\r\\n                    <br />\\r\\n                    <br />\\r\\n                    <input type=\"submit\" name=\"ctl00$ContentPlaceHolder1$Button1\" value=\"Home\" id=\"ctl00_ContentPlaceHolder1_Button1\" />\\r\\n                    &nbsp;\\r\\n                    \\r\\n                    &nbsp;\\r\\n                    \\r\\n                    <br />\\r\\n                    <br />\\r\\n                \\r\\n</div>\\r\\n            </td>\\r\\n            <td style=\"width: 25%;\">\\r\\n            </td>\\r\\n        </tr>\\r\\n    </table>\\r\\n\\r\\n                        <br />\\r\\n                        <br />\\r\\n                        <br />\\r\\n                    </div>\\r\\n                </div>\\r\\n            </div>\\r\\n            <div id=\"ctl00_divRight\">\\r\\n            </div>\\r\\n            <div id=\"ctl00_divBottom\"><!-- GovDelivery Subscription Overlay --> \\n<script src=\\'https://content.govdelivery.com/overlay/js/7759.js\\'></script> \\n<!-- End GovDelivery Overlay --></div>\\r\\n        </div>\\r\\n        \\r\\n        \\r\\n    \\r\\n\\r\\n<script type=\"text/javascript\">\\r\\n//<![CDATA[\\r\\nwindow.__TsmHiddenField = $get(\\'ctl00_RadScriptManager1_TSM\\');Sys.Application.add_init(function() {\\r\\n    $create(Telerik.Web.UI.RadTabStrip, {\"_selectedIndex\":-1,\"_skin\":\"Office2007\",\"causesValidation\":false,\"clickSelectedTab\":true,\"clientStateFieldID\":\"ctl00_tabTop_ClientState\",\"tabData\":[{\"value\":\"Calendar\"},{\"value\":\"MainBody\"},{\"value\":\"O\"},{\"value\":\"Q\"},{\"value\":\"S\"},{\"value\":\"U\"},{\"value\":\"W\"},{\"value\":\"Y\"}]}, null, null, $get(\"ctl00_tabTop\"));\\r\\n});\\r\\n//]]>\\r\\n</script>\\r\\n</form>\\r\\n</body>\\r\\n</html>\\r\\n'"
      ]
     },
     "execution_count": 64,
     "metadata": {},
     "output_type": "execute_result"
    }
   ],
   "source": [
    "agenda_url_response.text"
   ]
  },
  {
   "cell_type": "code",
   "execution_count": 78,
   "id": "805f89e4",
   "metadata": {},
   "outputs": [],
   "source": [
    "entry_response = requests.get(entry_url)\n",
    "entry_content = entry_response.text\n",
    "entry_content\n",
    "\n",
    "entry_soup = BeautifulSoup(entry_content, \"html.parser\")\n",
    "# entry_soup"
   ]
  },
  {
   "cell_type": "code",
   "execution_count": 79,
   "id": "c20b9225",
   "metadata": {},
   "outputs": [
    {
     "name": "stdout",
     "output_type": "stream",
     "text": [
      "Found agenda link: View.ashx?M=A&ID=1340044&GUID=08396C01-1563-4E18-B521-B489520E087A\n",
      "Link text: Agenda\n"
     ]
    }
   ],
   "source": [
    "# Find the hyperlink with id containing 'hypAgenda'\n",
    "agenda_link = entry_soup.find(\"a\", id=lambda x: x and \"hypAgenda\" in x)\n",
    "if agenda_link:\n",
    "    print(f\"Found agenda link: {agenda_link.get('href')}\")\n",
    "    print(f\"Link text: {agenda_link.text}\")\n",
    "else:\n",
    "    print(\"No agenda link found\")"
   ]
  }
 ],
 "metadata": {
  "kernelspec": {
   "display_name": "civic-doody (3.10.16)",
   "language": "python",
   "name": "python3"
  },
  "language_info": {
   "codemirror_mode": {
    "name": "ipython",
    "version": 3
   },
   "file_extension": ".py",
   "mimetype": "text/x-python",
   "name": "python",
   "nbconvert_exporter": "python",
   "pygments_lexer": "ipython3",
   "version": "3.10.16"
  }
 },
 "nbformat": 4,
 "nbformat_minor": 5
}
