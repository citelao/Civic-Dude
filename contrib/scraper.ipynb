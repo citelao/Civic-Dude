{
 "cells": [
  {
   "cell_type": "code",
   "execution_count": 1,
   "id": "fd3586db",
   "metadata": {},
   "outputs": [
    {
     "name": "stdout",
     "output_type": "stream",
     "text": [
      "hello python\n"
     ]
    }
   ],
   "source": [
    "print(\"hello python\")"
   ]
  },
  {
   "cell_type": "code",
   "execution_count": 2,
   "id": "1482f3ca",
   "metadata": {},
   "outputs": [],
   "source": [
    "from bs4 import BeautifulSoup"
   ]
  },
  {
   "cell_type": "code",
   "execution_count": 6,
   "id": "1d2c14aa",
   "metadata": {},
   "outputs": [],
   "source": [
    "# Get the calendar page!\n",
    "import requests\n",
    "\n",
    "url = \"https://bellevue.legistar.com/Calendar.aspx\"\n",
    "response = requests.get(url)\n",
    "content = response.text\n",
    "soup = BeautifulSoup(content, \"html.parser\")"
   ]
  },
  {
   "cell_type": "code",
   "execution_count": 11,
   "id": "e37d82fe",
   "metadata": {},
   "outputs": [
    {
     "data": {
      "text/plain": [
       "<tr class=\"rgRow\" id=\"ctl00_ContentPlaceHolder1_gridCalendar_ctl00__0\" valign=\"top\">\n",
       "<td><font color=\"DimGray\" face=\"Tahoma\" size=\"2\">\n",
       "<a id=\"ctl00_ContentPlaceHolder1_gridCalendar_ctl00_ctl04_hypBody\"><font color=\"Black\" face=\"Tahoma\" size=\"2\">Arts Commission</font></a>\n",
       "</font></td><td class=\"rgSorted\"><font color=\"DimGray\" face=\"Tahoma\" size=\"2\">10/1/2025</font></td><td><font color=\"DimGray\" face=\"Tahoma\" size=\"2\">\n",
       "<span style=\"white-space: nowrap;\">\n",
       "<a href=\"View.ashx?M=IC&amp;ID=1340044&amp;GUID=08396C01-1563-4E18-B521-B489520E087A\" id=\"ctl00_ContentPlaceHolder1_gridCalendar_ctl00_ctl04_hypiCal\"><font color=\"Blue\" face=\"Tahoma\" size=\"2\"><img alt=\"Export to iCalendar\" border=\"0\" commandname=\"Export\" id=\"ctl00_ContentPlaceHolder1_gridCalendar_ctl00_ctl04_btnExportToCalendar1\" src=\"Images/ical.gif\"/></font></a>\n",
       "</span>\n",
       "</font></td><td><font color=\"DimGray\" face=\"Tahoma\" size=\"2\">\n",
       "<span id=\"ctl00_ContentPlaceHolder1_gridCalendar_ctl00_ctl04_lblTime\"><font color=\"DimGray\" face=\"Tahoma\" size=\"2\">Canceled</font></span>\n",
       "</font></td><td><font color=\"DimGray\" face=\"Tahoma\" size=\"2\"> <br/><em>CANCELLATION NOTICE</em></font></td><td><font color=\"DimGray\" face=\"Tahoma\" size=\"2\">\n",
       "<a href=\"MeetingDetail.aspx?ID=1340044&amp;GUID=08396C01-1563-4E18-B521-B489520E087A&amp;Options=info|&amp;Search=\" id=\"ctl00_ContentPlaceHolder1_gridCalendar_ctl00_ctl04_hypMeetingDetail\"><font color=\"Blue\" face=\"Tahoma\" size=\"2\">Meeting details</font></a>\n",
       "</font></td><td><font color=\"DimGray\" face=\"Tahoma\" size=\"2\">\n",
       "<span style=\"white-space: nowrap;\">\n",
       "<img alt=\"Agenda\" border=\"0\" id=\"ctl00_ContentPlaceHolder1_gridCalendar_ctl00_ctl04_imgAgenda\" src=\"Images/PDF.gif\"/>\n",
       "<a href=\"View.ashx?M=A&amp;ID=1340044&amp;GUID=08396C01-1563-4E18-B521-B489520E087A\" id=\"ctl00_ContentPlaceHolder1_gridCalendar_ctl00_ctl04_hypAgenda\" target=\"_blank\"><font color=\"Blue\" face=\"Tahoma\" size=\"2\">Agenda</font></a>\n",
       "</span>\n",
       "</font></td><td><font color=\"DimGray\" face=\"Tahoma\" size=\"2\">\n",
       "<span style=\"white-space: nowrap;\">\n",
       "<a class=\"otherNotAvaiableMinutes\" id=\"ctl00_ContentPlaceHolder1_gridCalendar_ctl00_ctl04_hypMinutes\"><font color=\"Gray\" face=\"Tahoma\" size=\"2\">Not available</font></a>\n",
       "</span>\n",
       "</font></td><td><font color=\"DimGray\" face=\"Tahoma\" size=\"2\">\n",
       "<span style=\"white-space: nowrap;\">\n",
       "<a id=\"ctl00_ContentPlaceHolder1_gridCalendar_ctl00_ctl04_hypExtra3\"><font color=\"Gray\" face=\"Tahoma\" size=\"2\">Not available</font></a>\n",
       "</span>\n",
       "</font></td><td><font color=\"DimGray\" face=\"Tahoma\" size=\"2\">\n",
       "<span style=\"white-space: nowrap;\">\n",
       "<a class=\"videolink\" data-event-id=\"85139150-24a5-4b96-b54d-b0e8adbf3b37\" data-running-text=\"In&amp;nbsp;progress\" id=\"ctl00_ContentPlaceHolder1_gridCalendar_ctl00_ctl04_hypVideo\"><font color=\"Gray\" face=\"Tahoma\" size=\"2\">Not available</font></a>\n",
       "</span>\n",
       "</font></td>\n",
       "</tr>"
      ]
     },
     "execution_count": 11,
     "metadata": {},
     "output_type": "execute_result"
    }
   ],
   "source": [
    "# Find all rows in the body of the .rgMasterTable\n",
    "table = soup.find(\"table\", class_=\"rgMasterTable\")\n",
    "tbody = table.find(\"tbody\")\n",
    "rows = tbody.find_all(\"tr\")\n",
    "rows[0]\n"
   ]
  }
 ],
 "metadata": {
  "kernelspec": {
   "display_name": "civic-doody (3.10.16)",
   "language": "python",
   "name": "python3"
  },
  "language_info": {
   "codemirror_mode": {
    "name": "ipython",
    "version": 3
   },
   "file_extension": ".py",
   "mimetype": "text/x-python",
   "name": "python",
   "nbconvert_exporter": "python",
   "pygments_lexer": "ipython3",
   "version": "3.10.16"
  }
 },
 "nbformat": 4,
 "nbformat_minor": 5
}
