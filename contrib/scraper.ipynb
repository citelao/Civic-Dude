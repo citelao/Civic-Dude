{
 "cells": [
  {
   "cell_type": "code",
   "execution_count": 2,
   "id": "fd3586db",
   "metadata": {},
   "outputs": [
    {
     "name": "stdout",
     "output_type": "stream",
     "text": [
      "hello python\n"
     ]
    }
   ],
   "source": [
    "print(\"hello python\")"
   ]
  },
  {
   "cell_type": "code",
   "execution_count": 3,
   "id": "1482f3ca",
   "metadata": {},
   "outputs": [],
   "source": [
    "from bs4 import BeautifulSoup"
   ]
  },
  {
   "cell_type": "code",
   "execution_count": 4,
   "id": "1d2c14aa",
   "metadata": {},
   "outputs": [],
   "source": [
    "# Get the calendar page!\n",
    "import requests\n",
    "\n",
    "url = \"https://bellevue.legistar.com/Calendar.aspx\"\n",
    "response = requests.get(url)\n",
    "content = response.text\n",
    "soup = BeautifulSoup(content, \"html.parser\")"
   ]
  },
  {
   "cell_type": "code",
   "execution_count": 5,
   "id": "e37d82fe",
   "metadata": {},
   "outputs": [
    {
     "name": "stdout",
     "output_type": "stream",
     "text": [
      "\n",
      "Arts Commission\n",
      " 10/1/2025 <td><font color=\"DimGray\" face=\"Tahoma\" size=\"2\">\n",
      "<span style=\"white-space: nowrap;\">\n",
      "<img alt=\"Agenda\" border=\"0\" id=\"ctl00_ContentPlaceHolder1_gridCalendar_ctl00_ctl04_imgAgenda\" src=\"Images/PDF.gif\"/>\n",
      "<a href=\"View.ashx?M=A&amp;ID=1340044&amp;GUID=08396C01-1563-4E18-B521-B489520E087A\" id=\"ctl00_ContentPlaceHolder1_gridCalendar_ctl00_ctl04_hypAgenda\" target=\"_blank\"><font color=\"Blue\" face=\"Tahoma\" size=\"2\">Agenda</font></a>\n",
      "</span>\n",
      "</font></td> <td><font color=\"DimGray\" face=\"Tahoma\" size=\"2\">\n",
      "<span style=\"white-space: nowrap;\">\n",
      "<a class=\"otherNotAvaiableMinutes\" id=\"ctl00_ContentPlaceHolder1_gridCalendar_ctl00_ctl04_hypMinutes\"><font color=\"Gray\" face=\"Tahoma\" size=\"2\">Not available</font></a>\n",
      "</span>\n",
      "</font></td> <td><font color=\"DimGray\" face=\"Tahoma\" size=\"2\">\n",
      "<span style=\"white-space: nowrap;\">\n",
      "<a id=\"ctl00_ContentPlaceHolder1_gridCalendar_ctl00_ctl04_hypExtra3\"><font color=\"Gray\" face=\"Tahoma\" size=\"2\">Not available</font></a>\n",
      "</span>\n",
      "</font></td>\n"
     ]
    }
   ],
   "source": [
    "# Find all rows in the body of the .rgMasterTable\n",
    "# TODO: pagination\n",
    "# TODO: \"All years\"\n",
    "table = soup.find(\"table\", class_=\"rgMasterTable\")\n",
    "tbody = table.find(\"tbody\")\n",
    "rows = tbody.find_all(\"tr\")\n",
    "\n",
    "for i in range(0, 1):\n",
    "    row = rows[i]\n",
    "    cols = row.find_all(\"td\")\n",
    "    title = cols[0].text\n",
    "    date_str = cols[1].text\n",
    "    print(title, date_str, cols[6], cols[7], cols[8])\n"
   ]
  },
  {
   "cell_type": "code",
   "execution_count": 6,
   "id": "b192f056",
   "metadata": {},
   "outputs": [],
   "source": [
    "# Get the events RSS\n",
    "import requests\n",
    "\n",
    "# NOTE: Title= is unnec, I think.\n",
    "url = \"https://bellevue.legistar.com/Feed.ashx?M=Calendar&ID=31515925&GUID=fe06a265-908f-4b2e-b0bf-5570c51f012c&Mode=All&Title=City+of+Bellevue+-+Calendar+(All)\"\n",
    "response = requests.get(url)\n",
    "content = response.text"
   ]
  },
  {
   "cell_type": "code",
   "execution_count": 7,
   "id": "3dafd4de",
   "metadata": {},
   "outputs": [],
   "source": [
    "import feedparser\n",
    "events_feed = feedparser.parse(content)"
   ]
  },
  {
   "cell_type": "code",
   "execution_count": 8,
   "id": "c0e53a90",
   "metadata": {},
   "outputs": [
    {
     "data": {
      "text/plain": [
       "{'title': 'Arts Commission - 10/1/2025 (CANCELED)',\n",
       " 'title_detail': {'type': 'text/plain',\n",
       "  'language': None,\n",
       "  'base': '',\n",
       "  'value': 'Arts Commission - 10/1/2025 (CANCELED)'},\n",
       " 'links': [{'rel': 'alternate',\n",
       "   'type': 'text/html',\n",
       "   'href': 'https://bellevue.legistar.com/Gateway.aspx?M=MD&From=RSS&ID=1340044&GUID=08396C01-1563-4E18-B521-B489520E087A'}],\n",
       " 'link': 'https://bellevue.legistar.com/Gateway.aspx?M=MD&From=RSS&ID=1340044&GUID=08396C01-1563-4E18-B521-B489520E087A',\n",
       " 'id': '08396C01-1563-4E18-B521-B489520E087A-2025-09-22-16-48-13',\n",
       " 'guidislink': False,\n",
       " 'summary': '',\n",
       " 'summary_detail': {'type': 'text/html',\n",
       "  'language': None,\n",
       "  'base': '',\n",
       "  'value': ''},\n",
       " 'tags': [{'term': 'Arts Commission', 'scheme': None, 'label': None}],\n",
       " 'published': 'Mon, 22 Sep 2025 16:48:13 GMT',\n",
       " 'published_parsed': time.struct_time(tm_year=2025, tm_mon=9, tm_mday=22, tm_hour=16, tm_min=48, tm_sec=13, tm_wday=0, tm_yday=265, tm_isdst=0)}"
      ]
     },
     "execution_count": 8,
     "metadata": {},
     "output_type": "execute_result"
    }
   ],
   "source": [
    "entry = events_feed.entries[0]\n",
    "entry"
   ]
  },
  {
   "cell_type": "code",
   "execution_count": 9,
   "id": "fe03a9e7",
   "metadata": {},
   "outputs": [
    {
     "name": "stdout",
     "output_type": "stream",
     "text": [
      "Full link: https://bellevue.legistar.com/Gateway.aspx?M=MD&From=RSS&ID=1340044&GUID=08396C01-1563-4E18-B521-B489520E087A\n",
      "Extracted ID: 08396C01-1563-4E18-B521-B489520E087A\n"
     ]
    }
   ],
   "source": [
    "# Related items links\n",
    "# e.g.:\n",
    "# https://bellevue.legistar.com/MeetingDetail.aspx?From=RSS&ID=1340044&GUID=08396C01-1563-4E18-B521-B489520E087A\n",
    "# https://bellevue.legistar.com/Feed.ashx?M=CalendarDetail&ID=1308928&GUID=E5F4EE8D-DB26-44A2-98B5-AF31A2900196\n",
    "\n",
    "# Extract ID from entry link\n",
    "from urllib.parse import urlparse, parse_qs\n",
    "\n",
    "# Parse the URL to extract the ID parameter\n",
    "entry_url = entry[\"link\"]\n",
    "parsed_url = urlparse(entry_url)\n",
    "query_params = parse_qs(parsed_url.query)\n",
    "id = query_params.get(\"GUID\", [None])[0]\n",
    "\n",
    "print(f\"Full link: {entry_url}\")\n",
    "print(f\"Extracted ID: {id}\")\n",
    "\n",
    "related_items_url = f\"https://bellevue.legistar.com/Feed.ashx?M=CalendarDetail&ID={id}\"\n",
    "related_items_response = requests.get(related_items_url)"
   ]
  },
  {
   "cell_type": "code",
   "execution_count": 10,
   "id": "a5bda169",
   "metadata": {},
   "outputs": [
    {
     "name": "stdout",
     "output_type": "stream",
     "text": [
      "https://bellevue.legistar.com/View.ashx?M=A&ID=1308928&GUID=08396C01-1563-4E18-B521-B489520E087A\n"
     ]
    }
   ],
   "source": [
    "# Agenda link\n",
    "# https://bellevue.legistar.com/View.ashx?M=A&ID=1340044&GUID=08396C01-1563-4E18-B521-B489520E087A\n",
    "# https://bellevue.legistar.com/View.ashx?M=A&ID=1308928&GUID=E5F4EE8D-DB26-44A2-98B5-AF31A2900196\n",
    "agenda_url = f\"https://bellevue.legistar.com/View.ashx?M=A&ID=1308928&GUID={id}\"\n",
    "agenda_url_response = requests.get(agenda_url)\n",
    "print(agenda_url)"
   ]
  },
  {
   "cell_type": "code",
   "execution_count": 11,
   "id": "a6e1bd6c",
   "metadata": {},
   "outputs": [
    {
     "data": {
      "text/plain": [
       "'\\r\\n<!DOCTYPE html PUBLIC \"-//W3C//DTD XHTML 1.0 Transitional//EN\" \"http://www.w3.org/TR/xhtml1/DTD/xhtml1-transitional.dtd\">\\r\\n<html xmlns=\"http://www.w3.org/1999/xhtml\" lang=\"en\">\\r\\n<head id=\"ctl00_Head1\"><title>\\r\\n\\tConfirmation\\r\\n</title><link href=\"CalendarControl.css\" rel=\"stylesheet\" type=\"text/css\" /><link href=\"Skins/Tacoma/TabStrip.Tacoma.css\" rel=\"Stylesheet\" type=\"text/css\" /><link href=\"Skins/Tacoma/AccessibilityCommons.css\" rel=\"Stylesheet\" type=\"text/css\" />\\r\\n    <script type=\"text/JavaScript\" src=\"AccessibilityFocusManagement.js\"></script>\\r\\n\\r\\n\\r\\n    <style>\\r\\n        .skip-to-content {\\r\\n            position: absolute;\\r\\n            color: #0443B0;\\r\\n            padding: 10px;\\r\\n            z-index: 100;\\r\\n            text-decoration: none;\\r\\n            font-family: \"Segoe UI\", Arial, Helvetica, sans-serif;\\r\\n            font-size: 14px;\\r\\n            margin-top: -71px;\\r\\n            display: none;\\r\\n            top: -50px;\\r\\n            transition: opacity 0.3s ease-in-out, margin-top 0.3s ease-in-out;\\r\\n        }\\r\\n\\r\\n        .skip-to-content:focus {\\r\\n            opacity: 1; \\r\\n            margin-top: 0;\\r\\n            display: block;\\r\\n            margin-top: 4px;\\r\\n            width: 150px;\\r\\n            top: -2px;\\r\\n            left: 4px;\\r\\n            position: relative;\\r\\n        }\\r\\n    </style>\\r\\n\\r\\n    <script>\\r\\n        document.addEventListener(\\'DOMContentLoaded\\', function() {\\r\\n            var skipLink = document.querySelector(\\'.skip-to-content\\');\\r\\n            document.addEventListener(\\'keydown\\', function(e) {\\r\\n                if (e.key === \\'Tab\\') {\\r\\n                    skipLink.style.display = \\'block\\';\\r\\n                }\\r\\n            });\\r\\n        });\\r\\n    </script>\\r\\n    <script>\\r\\n        function focusMainContent() {\\r\\n            var mainContent = document.getElementById(\\'mainContent\\');\\r\\n            if (mainContent) {\\r\\n                mainContent.setAttribute(\\'tabindex\\', \\'-1\\');\\r\\n                mainContent.focus();\\r\\n            }\\r\\n        }\\r\\n    </script>\\r\\n\\r\\n    <script type=\"text/javascript\" src=\"./Scripts/jquery-3.6.4.min.js\"></script>\\r\\n    <script type=\"text/javascript\" src=\"CalendarControl.js\" language=\"javascript\"></script>\\r\\n    <script type=\"text/javascript\">\\r\\n        var addthis_config = {\\r\\n            ui_cobrand: \"powered by Legistar\",\\r\\n            ui_header_color: \"#660000\",\\r\\n            ui_header_background: \"#f7eecd\",\\r\\n            ui_508_compliant: true,\\r\\n            data_track_clickback: true\\r\\n        }\\r\\n    </script>\\r\\n    <script type=\"text/javascript\" src=\"https://s7.addthis.com/js/300/addthis_widget.js#username=legistarinsite\" async=\"async\"></script>\\r\\n    <script type=\"text/javascript\">\\r\\n        window.name = \"MasterWindow\";\\r\\n        var first = true;\\r\\n        var first2 = true;\\r\\n        function OpenTelerikWindow(url) {\\r\\n            var w = radopen(url, \\'RadWindow1\\');\\r\\n            w.add_pageLoad(function () {\\r\\n                focusRadWindow(w);\\r\\n            });\\r\\n\\r\\n            if (first) {\\r\\n                //w.togglePin(); \\r\\n                first = false;\\r\\n            }\\r\\n        }\\r\\n        function OpenTelerikWindow2(url) {\\r\\n            var w = radopen(url, \\'RadWindow2\\')\\r\\n            if (first2) {\\r\\n                //w.togglePin(); \\r\\n                first2 = false;\\r\\n            }\\r\\n        }\\r\\n    </script>\\r\\n    <!-- Google tag (gtag.js) -->\\r\\n    <script async src=\"https://www.googletagmanager.com/gtag/js?id=G-TTMGN2RHVZ\"></script>\\r\\n    <script>\\r\\n        window.dataLayer = window.dataLayer || [];\\r\\n        function gtag() { dataLayer.push(arguments); }\\r\\n        gtag(\\'js\\', new Date());\\r\\n\\r\\n        gtag(\\'config\\', \\'G-TTMGN2RHVZ\\');\\r\\n    </script>\\r\\n    <meta name=\"author\" content=\"Granicus, Inc.\" /><meta name=\"format-detection\" content=\"telephone=no\" /><link href=\"/WebResource.axd?d=HkmiNSkKJcp9zYO7iQ4LQenL3JpSZe2UGKB_Pk4r5YQRuZzPsLMsZzwrSvy9lruIl5GkgwLvHWu67vwJMwKSFxUTlVdL05GtcnLDPfablFs-ZjDTV4SRhTyPSYW1NSg5lG_yG93x297US-_TNEi91A2&amp;t=638932342850446512\" type=\"text/css\" rel=\"stylesheet\" class=\"Telerik_stylesheet\" /><link href=\"/WebResource.axd?d=MhwgBhFpGm96DYXZg64XBFO_Qti5qvJnP97Bn0RxNVzxPkRc1lsUOvsNrog8hB6UfUcMd9UGUq7HWoS3NR7pBHxFzwG7wn5vFH4ZiRANDgrdX46IV3jFiRTMdaiY4p5nafT8PIG-WJ_AeM3Buxg0ROhjg7TnlSRDbF0Ta5237mU1&amp;t=638932342853179373\" type=\"text/css\" rel=\"stylesheet\" class=\"Telerik_stylesheet\" /></head>\\r\\n<body id=\"ctl00_body1\" style=\"margin: 0px; border: 0px;\">\\r\\n    <div id=\"globalTooltip\" class=\"custom-tooltip\"></div>\\r\\n    <a href=\"#mainContent\" class=\"skip-to-content\" onclick=\"focusMainContent()\">Skip to main content</a>\\r\\n    <form name=\"aspnetForm\" method=\"post\" action=\"./Confirmation.aspx?M1=Gone\" id=\"aspnetForm\" style=\"direction:ltr;\">\\r\\n<input type=\"hidden\" name=\"ctl00_RadScriptManager1_TSM\" id=\"ctl00_RadScriptManager1_TSM\" value=\"\" />\\r\\n<input type=\"hidden\" name=\"__VIEWSTATE\" id=\"__VIEWSTATE\" value=\"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\" />\\r\\n\\r\\n\\r\\n<script src=\"/Telerik.Web.UI.WebResource.axd?_TSM_HiddenField_=ctl00_RadScriptManager1_TSM&amp;compress=1&amp;_TSM_CombinedScripts_=%3b%3bSystem.Web.Extensions%2c+Version%3d4.0.0.0%2c+Culture%3dneutral%2c+PublicKeyToken%3d31bf3856ad364e35%3aen-US%3aceece802-cb39-4409-a6c9-bfa3b2c8bf10%3aea597d4b%3bTelerik.Web.UI%2c+Version%3d2020.1.114.45%2c+Culture%3dneutral%2c+PublicKeyToken%3d121fae78165ba3d4%3aen-US%3a40a36146-6362-49db-b4b5-57ab81f34dac%3ae330518b%3a16e4e7cd%3af7645509%3a24ee1bba%3a33715776%3a88144a7a%3a1e771326%3a8e6f0d33%3a1f3a7489\" type=\"text/javascript\"></script>\\r\\n<input type=\"hidden\" name=\"__VIEWSTATEGENERATOR\" id=\"__VIEWSTATEGENERATOR\" value=\"6F4DDBA3\" />\\r\\n<input type=\"hidden\" name=\"__EVENTVALIDATION\" id=\"__EVENTVALIDATION\" value=\"i5PmNqeI3djmPhJfQ6al7KbP7lBkAu+CudK+fcc911/o2X1/21TgddJQ7o5KogKXrY6LpdVB0uYu6Fqq/Fyd/PYyiPLq6JArW2sEtd4P9Yr9dIqH+3/ewXblWcX5l72D\" />\\r\\n        \\r\\n        <div id=\"ctl00_divBody\">\\r\\n            <div id=\"ctl00_divMyAccountOut\" style=\"position: absolute; right: 8px; top: 14px;\">\\r\\n                <a id=\"ctl00_hypSignIn\" href=\"SignIn.aspx?ReturnUrl=TXlBY2NvdW50LmFzcHg%3d\"><font face=\"Tahoma\" color=\"White\" size=\"2\">Sign In</font></a>\\r\\n            </div>\\r\\n            \\r\\n            <div id=\"ctl00_divTop\"><link href=\"https://fonts.googleapis.com/css?family=Montserrat\" rel=\"stylesheet\" />\\n<style>\\n    .menubar { background: #217b87; padding: 10px 0; } .inside-padding { max-width: 1280px; margin: 0 auto; } .pagetitle-wrapper { display: inline-block; width: calc(100%-88px); vertical-align: middle; } .pagetitle-wrapper .homelink { display: inline-block; color: #fff; font-weight: 400; font-size: 18px; font-family: \\'Montserrat\\', sans-serif; text-decoration: none; } .pagetitle-wrapper .homelink:hover { text-decoration: underline; }\\n</style>\\n<!-- <table width=\"100%\" style=\"background-image: url(\\'https://bellevue.legistar.com/Images/BELL/bellevue-insite-bgHeaderBlue.gif\\'); background-repeat: repeat-x;\" border=\"0\" cellspacing=\"0\" cellpadding=\"0\"> <tbody> <tr> <td style=\"color: #ffffff; font-size: 1.1em; padding: 0px 15px;\"> <p style=\"margin-bottom: 5px; font-family: Arial, \\'Helvetica Neue\\', Helvetica, sans-serif;\">&nbsp; &nbsp; &nbsp; &nbsp; &nbsp; &nbsp; &nbsp; &nbsp;</p> </td> </tr> </tbody> </table> -->\\n<div class=\"menubar\">\\n<div class=\"inside-padding\">\\n<div class=\"pagetitle-wrapper\"><a href=\"https://bellevuewa.gov\" class=\"homelink\">City of Bellevue, WA</a></div>\\n</div>\\n</div>\\n<img alt=\"\" width=\"100%\" src=\"https://webcontent.granicusops.com/content/bellevue/images/bellevue_insite_banner%202.png\" /></div>\\r\\n            \\r\\n            <div id=\"ctl00_divTabs\">\\r\\n                <div id=\"ctl00_tabTop\" class=\"RadTabStrip RadTabStrip_Office2007 RadTabStripTop_Office2007 RadTabStripTop\"><font face=\"Tahoma\" size=\"2\">\\r\\n\\t<!-- 2020.1.114.45 --><div class=\"rtsLevel rtsLevel1\">\\r\\n\\t\\t<ul class=\"rtsUL\"><li class=\"rtsLI rtsFirst\"><a class=\"rtsLink\" href=\"Calendar.aspx\"><span class=\"rtsOut\"><span class=\"rtsIn\"><span class=\"rtsTxt\">Calendar</span></span></span></a></li><li class=\"rtsLI\"><a class=\"rtsLink\" href=\"MainBody.aspx\"><span class=\"rtsOut\"><span class=\"rtsIn\"><span class=\"rtsTxt\">City Council</span></span></span></a></li><li class=\"rtsLI\"><a class=\"rtsLink\" href=\"https://bellevue.legistar.com/DepartmentDetail.aspx?ID=36988&amp;GUID=DB7BEE27-0270-4B4E-AAA1-BE80A9A1351D&amp;R=b1508243-7d0f-4915-871b-050084644bd4\"><span class=\"rtsOut\"><span class=\"rtsIn\"><span class=\"rtsTxt\">East Bellevue Community Council</span></span></span></a></li><li class=\"rtsLI\"><a class=\"rtsLink\" href=\"https://bellevue.legistar.com/DepartmentDetail.aspx?ID=38562&amp;GUID=BECF7B93-2020-458D-BF48-481917AABD64&amp;R=7d8828b3-c897-4e33-b4dc-ffb67a1bc031\"><span class=\"rtsOut\"><span class=\"rtsIn\"><span class=\"rtsTxt\">Environmental Services Commission</span></span></span></a></li><li class=\"rtsLI\"><a class=\"rtsLink\" href=\"https://bellevue.legistar.com/DepartmentDetail.aspx?ID=41382&amp;GUID=5DCEABD0-80C6-4E28-8280-2132A8045177&amp;R=6e89d5d9-9f56-4d5f-a250-2357c1f470ce\"><span class=\"rtsOut\"><span class=\"rtsIn\"><span class=\"rtsTxt\">Human Services Commission</span></span></span></a></li><li class=\"rtsLI\"><a class=\"rtsLink\" href=\"https://bellevue.legistar.com/DepartmentDetail.aspx?ID=41346&amp;GUID=5418B091-40A7-4E20-84CA-AEDFDA182FC8&amp;R=cf6e2e07-65d5-4a47-aad9-e75518c1d390\"><span class=\"rtsOut\"><span class=\"rtsIn\"><span class=\"rtsTxt\">Parks & Community Services Board</span></span></span></a></li><li class=\"rtsLI\"><a class=\"rtsLink\" href=\"https://bellevue.legistar.com/DepartmentDetail.aspx?ID=34800&amp;GUID=E2B592F1-4F81-48A7-8202-88AA2D380B94&amp;R=8da5c08f-28cb-466e-b789-5db4c06ef202\"><span class=\"rtsOut\"><span class=\"rtsIn\"><span class=\"rtsTxt\">Planning Commission</span></span></span></a></li><li class=\"rtsLI rtsLast\"><a class=\"rtsLink\" href=\"https://bellevue.legistar.com/DepartmentDetail.aspx?ID=37888&amp;GUID=1A497E37-AF95-49C5-A5D5-3B0651415C43&amp;R=71ef3d95-f7a6-4d5f-b7b5-b55fc1cc07a3\\t\"><span class=\"rtsOut\"><span class=\"rtsIn\"><span class=\"rtsTxt\">Transportation Commission</span></span></span></a></li></ul>\\r\\n\\t</div><input id=\"ctl00_tabTop_ClientState\" name=\"ctl00_tabTop_ClientState\" type=\"hidden\" />\\r\\n</font></div>\\r\\n            </div>\\r\\n            <div id=\"ctl00_divLeft\">\\r\\n            </div>\\r\\n            <div id=\"ctl00_divHeader\" style=\"width: 100%; height: 28px\">\\r\\n                <div id=\"divHeaderLeft\">\\r\\n                    \\r\\n                </div>\\r\\n                <div id=\"divHeaderRight\" style=\"float: right; height: 16px\">\\r\\n                    \\r\\n                    \\r\\n                </div>\\r\\n            </div>\\r\\n            <div id=\"ctl00_Div1\">\\r\\n                <div id=\"ctl00_Div2\">\\r\\n                    <div id=\"ctl00_divMiddle\">\\r\\n                        \\r\\n    <table border=\"0\" cellpadding=\"10\" cellspacing=\"10\" style=\"width: 100%;\">\\r\\n        <tr>\\r\\n            <td style=\"width: 25%;\">\\r\\n                &nbsp;\\r\\n            </td>\\r\\n            <td style=\"width: 50%;\" align=\"center\" valign=\"middle\">\\r\\n                <div id=\"ctl00_ContentPlaceHolder1_pan1\">\\r\\n\\t\\r\\n                    <br />\\r\\n                    <br />\\r\\n                    <span id=\"ctl00_ContentPlaceHolder1_Label1\"><font face=\"Tahoma\" color=\"Red\" size=\"2\">This record no longer exists. It might have been deleted.</font></span>\\r\\n                    <span id=\"ctl00_ContentPlaceHolder1_Label2\"><font face=\"Tahoma\" color=\"Black\" size=\"2\"></font></span>\\r\\n                    <br />\\r\\n                    <br />\\r\\n                    <input type=\"submit\" name=\"ctl00$ContentPlaceHolder1$Button1\" value=\"Home\" id=\"ctl00_ContentPlaceHolder1_Button1\" />\\r\\n                    &nbsp;\\r\\n                    \\r\\n                    &nbsp;\\r\\n                    \\r\\n                    <br />\\r\\n                    <br />\\r\\n                \\r\\n</div>\\r\\n            </td>\\r\\n            <td style=\"width: 25%;\">\\r\\n            </td>\\r\\n        </tr>\\r\\n    </table>\\r\\n\\r\\n                        <br />\\r\\n                        <br />\\r\\n                        <br />\\r\\n                    </div>\\r\\n                </div>\\r\\n            </div>\\r\\n            <div id=\"ctl00_divRight\">\\r\\n            </div>\\r\\n            <div id=\"ctl00_divBottom\"><!-- GovDelivery Subscription Overlay --> \\n<script src=\\'https://content.govdelivery.com/overlay/js/7759.js\\'></script> \\n<!-- End GovDelivery Overlay --></div>\\r\\n        </div>\\r\\n        \\r\\n        \\r\\n    \\r\\n\\r\\n<script type=\"text/javascript\">\\r\\n//<![CDATA[\\r\\nwindow.__TsmHiddenField = $get(\\'ctl00_RadScriptManager1_TSM\\');Sys.Application.add_init(function() {\\r\\n    $create(Telerik.Web.UI.RadTabStrip, {\"_selectedIndex\":-1,\"_skin\":\"Office2007\",\"causesValidation\":false,\"clickSelectedTab\":true,\"clientStateFieldID\":\"ctl00_tabTop_ClientState\",\"tabData\":[{\"value\":\"Calendar\"},{\"value\":\"MainBody\"},{\"value\":\"O\"},{\"value\":\"Q\"},{\"value\":\"S\"},{\"value\":\"U\"},{\"value\":\"W\"},{\"value\":\"Y\"}]}, null, null, $get(\"ctl00_tabTop\"));\\r\\n});\\r\\n//]]>\\r\\n</script>\\r\\n</form>\\r\\n</body>\\r\\n</html>\\r\\n'"
      ]
     },
     "execution_count": 11,
     "metadata": {},
     "output_type": "execute_result"
    }
   ],
   "source": [
    "agenda_url_response.text"
   ]
  },
  {
   "cell_type": "code",
   "execution_count": 12,
   "id": "805f89e4",
   "metadata": {},
   "outputs": [],
   "source": [
    "entry_response = requests.get(entry_url)\n",
    "entry_content = entry_response.text\n",
    "entry_content\n",
    "\n",
    "entry_soup = BeautifulSoup(entry_content, \"html.parser\")\n",
    "# entry_soup"
   ]
  },
  {
   "cell_type": "code",
   "execution_count": 15,
   "id": "c20b9225",
   "metadata": {},
   "outputs": [
    {
     "name": "stdout",
     "output_type": "stream",
     "text": [
      "Found agenda link: View.ashx?M=A&ID=1340044&GUID=08396C01-1563-4E18-B521-B489520E087A\n",
      "Link text: Agenda\n",
      "Full agenda URL: https://bellevue.legistar.com/View.ashx?M=A&ID=1340044&GUID=08396C01-1563-4E18-B521-B489520E087A\n"
     ]
    }
   ],
   "source": [
    "from urllib.parse import urljoin\n",
    "\n",
    "# Find the hyperlink with id containing 'hypAgenda'\n",
    "agenda_link = entry_soup.find(\"a\", id=lambda x: x and \"hypAgenda\" in x)\n",
    "if agenda_link:\n",
    "    print(f\"Found agenda link: {agenda_link.get('href')}\")\n",
    "    print(f\"Link text: {agenda_link.text}\")\n",
    "else:\n",
    "    print(\"No agenda link found\")\n",
    "\n",
    "# Stitch together the base URL\n",
    "base_url = \"https://bellevue.legistar.com\"\n",
    "if agenda_link:\n",
    "    href = agenda_link.get('href')\n",
    "    full_agenda_url = urljoin(base_url, href)\n",
    "    print(f\"Full agenda URL: {full_agenda_url}\")\n"
   ]
  }
 ],
 "metadata": {
  "kernelspec": {
   "display_name": "civic-doody (3.10.16)",
   "language": "python",
   "name": "python3"
  },
  "language_info": {
   "codemirror_mode": {
    "name": "ipython",
    "version": 3
   },
   "file_extension": ".py",
   "mimetype": "text/x-python",
   "name": "python",
   "nbconvert_exporter": "python",
   "pygments_lexer": "ipython3",
   "version": "3.10.16"
  }
 },
 "nbformat": 4,
 "nbformat_minor": 5
}
